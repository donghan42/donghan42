{
 "cells": [
  {
   "cell_type": "code",
   "execution_count": null,
   "metadata": {},
   "outputs": [],
   "source": [
    "print(chr(0x2605)+\"数据科学与工程导论\"+chr(0x2605))"
   ]
  },
  {
   "cell_type": "code",
   "execution_count": 11,
   "metadata": {},
   "outputs": [
    {
     "ename": "ValueError",
     "evalue": "could not convert string to float: ''",
     "output_type": "error",
     "traceback": [
      "\u001b[1;31m---------------------------------------------------------------------------\u001b[0m",
      "\u001b[1;31mValueError\u001b[0m                                Traceback (most recent call last)",
      "Cell \u001b[1;32mIn[11], line 1\u001b[0m\n\u001b[1;32m----> 1\u001b[0m x\u001b[38;5;241m=\u001b[39m\u001b[38;5;28;43mfloat\u001b[39;49m\u001b[43m(\u001b[49m\u001b[38;5;28;43minput\u001b[39;49m\u001b[43m(\u001b[49m\u001b[43m)\u001b[49m\u001b[43m)\u001b[49m\n\u001b[0;32m      2\u001b[0m y\u001b[38;5;241m=\u001b[39m\u001b[38;5;28mfloat\u001b[39m(\u001b[38;5;28minput\u001b[39m())\n\u001b[0;32m      3\u001b[0m z\u001b[38;5;241m=\u001b[39m\u001b[38;5;28mfloat\u001b[39m(\u001b[38;5;28minput\u001b[39m())\n",
      "\u001b[1;31mValueError\u001b[0m: could not convert string to float: ''"
     ]
    }
   ],
   "source": [
    "x=float(input())\n",
    "y=float(input())\n",
    "z=float(input())\n",
    "if x>y:\n",
    "    x,y=y,x\n",
    "if x>z:\n",
    "    x,z=z,x\n",
    "if y>z:\n",
    "    y,z=z,y\n",
    "print(x, y, z)"
   ]
  },
  {
   "cell_type": "code",
   "execution_count": 10,
   "metadata": {},
   "outputs": [
    {
     "ename": "ValueError",
     "evalue": "could not convert string to float: ''",
     "output_type": "error",
     "traceback": [
      "\u001b[1;31m---------------------------------------------------------------------------\u001b[0m",
      "\u001b[1;31mValueError\u001b[0m                                Traceback (most recent call last)",
      "Cell \u001b[1;32mIn[10], line 1\u001b[0m\n\u001b[1;32m----> 1\u001b[0m w\u001b[38;5;241m=\u001b[39m\u001b[38;5;28;43mfloat\u001b[39;49m\u001b[43m(\u001b[49m\u001b[38;5;28;43minput\u001b[39;49m\u001b[43m(\u001b[49m\u001b[43m)\u001b[49m\u001b[43m)\u001b[49m\n\u001b[0;32m      2\u001b[0m x\u001b[38;5;241m=\u001b[39m\u001b[38;5;28mfloat\u001b[39m(\u001b[38;5;28minput\u001b[39m())\n\u001b[0;32m      3\u001b[0m y\u001b[38;5;241m=\u001b[39m\u001b[38;5;28mfloat\u001b[39m(\u001b[38;5;28minput\u001b[39m())\n",
      "\u001b[1;31mValueError\u001b[0m: could not convert string to float: ''"
     ]
    }
   ],
   "source": [
    "w=float(input())\n",
    "x=float(input())\n",
    "y=float(input())\n",
    "z=float(input())\n",
    "if w<x:\n",
    "    w,x=x,w\n",
    "if w<y:\n",
    "    w,y=y,w\n",
    "if w<z:\n",
    "    w,z=z,w\n",
    "#w最大\n",
    "if x<y:\n",
    "    x,y=y,x\n",
    "if x<z:\n",
    "    x,z=z,x\n",
    "if y<z:\n",
    "    y,z=z,y\n",
    "print(w, x, y, z)"
   ]
  },
  {
   "cell_type": "code",
   "execution_count": 9,
   "metadata": {},
   "outputs": [
    {
     "name": "stdout",
     "output_type": "stream",
     "text": [
      "1\n",
      "3\n",
      "5\n",
      "7\n",
      "9\n",
      "11\n",
      "13\n",
      "15\n",
      "17\n",
      "19\n",
      "21\n",
      "23\n",
      "25\n",
      "27\n",
      "29\n",
      "31\n",
      "33\n",
      "35\n",
      "37\n",
      "39\n",
      "41\n",
      "43\n",
      "45\n",
      "47\n",
      "49\n",
      "51\n",
      "53\n",
      "55\n",
      "57\n",
      "59\n",
      "61\n",
      "63\n",
      "65\n",
      "67\n",
      "69\n",
      "71\n",
      "73\n",
      "75\n",
      "77\n",
      "79\n",
      "81\n",
      "83\n",
      "85\n",
      "87\n",
      "89\n",
      "91\n",
      "93\n",
      "95\n",
      "97\n",
      "99\n"
     ]
    }
   ],
   "source": [
    "for i in range(1,101):\n",
    "    if i%2!=0:\n",
    "        print(i)"
   ]
  },
  {
   "cell_type": "code",
   "execution_count": 8,
   "metadata": {},
   "outputs": [
    {
     "name": "stdout",
     "output_type": "stream",
     "text": [
      "5050\n"
     ]
    }
   ],
   "source": [
    "a=0\n",
    "for i in range (0,101):\n",
    "    a+=i;\n",
    "print(a);"
   ]
  },
  {
   "cell_type": "code",
   "execution_count": 7,
   "metadata": {},
   "outputs": [
    {
     "name": "stdout",
     "output_type": "stream",
     "text": [
      "['董涵涵涵涵', '董涵涵涵', '董涵涵', '董涵']\n"
     ]
    }
   ],
   "source": [
    "def use_for(L):\n",
    "    new_list=[]\n",
    "    for i in range(len(L)-1,-1,-1):\n",
    "        new_list.append(L[i])\n",
    "    return new_list\n",
    "def use_while(L):\n",
    "    new_list=[]\n",
    "    i=len(L)-1\n",
    "    while i>=0 :\n",
    "        new_list.append(L[i])\n",
    "        i=i-1\n",
    "    return new_list\n",
    "L=['董涵','董涵涵','董涵涵涵','董涵涵涵涵']\n",
    "print(use_for(L))\n",
    "print(use_while(L))\n"
   ]
  },
  {
   "cell_type": "code",
   "execution_count": 12,
   "metadata": {},
   "outputs": [
    {
     "name": "stdout",
     "output_type": "stream",
     "text": [
      "没有\n"
     ]
    }
   ],
   "source": [
    "S=input()\n",
    "count=0\n",
    "def panduan(S):\n",
    "    i=0\n",
    "    count=0\n",
    "    while i<len(S)-1:\n",
    "        if S[i]==S[i+1]:\n",
    "           count=1\n",
    "           break\n",
    "        i=i+1\n",
    "    return count\n",
    "count=panduan(S) \n",
    "if count==1:\n",
    "    print(\"有\")\n",
    "else:\n",
    "    print(\"没有\")"
   ]
  },
  {
   "cell_type": "code",
   "execution_count": null,
   "metadata": {},
   "outputs": [],
   "source": [
    "S=input()\n",
    "def delete_space(S):\n",
    "    list_S=list(S)\n",
    "    i=0\n",
    "    while i<=len(list_S)-1:\n",
    "        if list_S[i]==' ':\n",
    "            list_S.pop(i)\n",
    "        else:\n",
    "            i=i+1\n",
    "    return ''.join(list_S)\n",
    "print(delete_space(S))"
   ]
  },
  {
   "cell_type": "code",
   "execution_count": null,
   "metadata": {},
   "outputs": [],
   "source": [
    "def newton(a,precision=1e-10,max=1000):\n",
    "    if a==0:\n",
    "        return 0\n",
    "    else:\n",
    "        x=a**(1/3)/2+a/(a/2)**(1/3)\n",
    "        for _ in range(max):\n",
    "            next_x=(2*x**3+a)/(3*x**2)\n",
    "            if abs(next_x-x)<=precision:\n",
    "                return next_x\n",
    "            x=next_x\n",
    "    return x\n",
    "a=8\n",
    "root=newton(a,1e-10,1000)\n",
    "print(root)"
   ]
  },
  {
   "cell_type": "code",
   "execution_count": null,
   "metadata": {},
   "outputs": [],
   "source": [
    "n=5\n",
    "def jiecheng(n):\n",
    "    sum=1\n",
    "    for i in range(1,n+1):\n",
    "        sum=sum*i\n",
    "    return sum\n",
    "print(jiecheng(n))"
   ]
  }
 ],
 "metadata": {
  "kernelspec": {
   "display_name": "Python 3",
   "language": "python",
   "name": "python3"
  },
  "language_info": {
   "codemirror_mode": {
    "name": "ipython",
    "version": 3
   },
   "file_extension": ".py",
   "mimetype": "text/x-python",
   "name": "python",
   "nbconvert_exporter": "python",
   "pygments_lexer": "ipython3",
   "version": "3.12.0"
  }
 },
 "nbformat": 4,
 "nbformat_minor": 2
}
