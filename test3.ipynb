{
 "cells": [
  {
   "cell_type": "code",
   "execution_count": 14,
   "metadata": {},
   "outputs": [
    {
     "name": "stdout",
     "output_type": "stream",
     "text": [
      "0\n"
     ]
    }
   ],
   "source": [
    "def zhishu(a):\n",
    "    count = 1\n",
    "    if a==1:\n",
    "        count=0\n",
    "    elif a==2 or a==3:\n",
    "        count = 1\n",
    "    else:\n",
    "        for i in range(2,a):\n",
    "            if a%i==0:\n",
    "                count=0\n",
    "                break\n",
    "    return count\n",
    "a=99\n",
    "count=zhishu(a)\n",
    "print(count)"
   ]
  },
  {
   "cell_type": "code",
   "execution_count": 15,
   "metadata": {},
   "outputs": [
    {
     "name": "stdout",
     "output_type": "stream",
     "text": [
      "[1, 1, 5, 6, 7, 8, 8, 9, 9]\n"
     ]
    }
   ],
   "source": [
    "def insertion_sort(arr):\n",
    "    for i in range(1,len(arr)):\n",
    "        key = arr[i]\n",
    "        j=i-1\n",
    "        while j>=0 and key<=arr[j]:\n",
    "            arr[j+1]=arr[j]\n",
    "            j=j-1\n",
    "        arr[j+1]=key\n",
    "    return arr\n",
    "arr=[1,5,6,8,7,9,1,8,9]\n",
    "arr_sort=insertion_sort(arr)\n",
    "print(arr_sort)   "
   ]
  },
  {
   "cell_type": "code",
   "execution_count": 16,
   "metadata": {},
   "outputs": [
    {
     "name": "stdout",
     "output_type": "stream",
     "text": [
      "[1, 2, 3, 4, 5, 5, 5, 6, 7, 7, 8, 8, 9]\n"
     ]
    }
   ],
   "source": [
    "def selection_sort(arr):\n",
    "    for i in range (1,len(arr)):\n",
    "        min = i\n",
    "        for j in range(i,len(arr)):\n",
    "            if arr[j]<arr[min]:\n",
    "                min=j\n",
    "        arr[min],arr[i]=arr[i],arr[min]\n",
    "arr=[1,2,3,5,8,7,9,6,8,7,4,5,5]\n",
    "selection_sort(arr)\n",
    "print(arr)"
   ]
  },
  {
   "cell_type": "code",
   "execution_count": 17,
   "metadata": {},
   "outputs": [
    {
     "name": "stdout",
     "output_type": "stream",
     "text": [
      "[1, 2, 3, 4, 5, 5, 6, 7, 8, 9]\n"
     ]
    }
   ],
   "source": [
    "def quick_sort(arr):\n",
    "    if len(arr)<=1:\n",
    "        return arr\n",
    "    else:\n",
    "        middle=arr[0]\n",
    "        left=[x for x in arr[1:] if x<=middle]\n",
    "        right=[x for x in arr[1:] if x> middle]\n",
    "        return quick_sort(left)+[middle]+quick_sort(right)\n",
    "arr=[9,5,6,7,1,4,8,5,3,2]\n",
    "arr_sort=quick_sort(arr)\n",
    "print(arr_sort)"
   ]
  },
  {
   "cell_type": "code",
   "execution_count": 18,
   "metadata": {},
   "outputs": [
    {
     "name": "stdout",
     "output_type": "stream",
     "text": [
      "对于长度为 100 的随机数列\n",
      "快速排序需要时间: 0.0\n",
      "插入排序需要时间: 0.0\n",
      "选择排序需要时间: 0.00099945068359375\n",
      "对于长度为 1000 的随机数列\n",
      "快速排序需要时间: 0.002002716064453125\n",
      "插入排序需要时间: 0.026995420455932617\n",
      "选择排序需要时间: 0.031530141830444336\n",
      "对于长度为 10000 的随机数列\n",
      "快速排序需要时间: 0.024045944213867188\n",
      "插入排序需要时间: 2.7260096073150635\n",
      "选择排序需要时间: 2.7741007804870605\n"
     ]
    }
   ],
   "source": [
    "import random\n",
    "import time\n",
    "def quick_sort(arr):\n",
    "    if len(arr)<=1:\n",
    "        return arr\n",
    "    else:\n",
    "        middle=arr[0]\n",
    "        left=[x for x in arr[1:] if x<=middle]\n",
    "        right=[x for x in arr[1:] if x> middle]\n",
    "        return quick_sort(left)+[middle]+quick_sort(right)\n",
    "    #快速排序\n",
    "def insertion_sort(arr):\n",
    "    for i in range(1,len(arr)):\n",
    "        key = arr[i]\n",
    "        j=i-1\n",
    "        while j>=0 and key<=arr[j]:\n",
    "            arr[j+1]=arr[j]\n",
    "            j=j-1\n",
    "        arr[j+1]=key\n",
    "    return arr\n",
    "    #插入排序\n",
    "def selection_sort(arr):\n",
    "    for i in range (1,len(arr)):\n",
    "        min = i\n",
    "        for j in range(i,len(arr)):\n",
    "            if arr[j]<arr[min]:\n",
    "                min=j\n",
    "        arr[min],arr[i]=arr[i],arr[min]\n",
    "    #选择排序\n",
    "for i in range(2,5):\n",
    "    print('对于长度为',10**i,\"的随机数列\")\n",
    "    arr_random=[random.randint(0,100000) for _ in range(10**i)]\n",
    "    starttime=time.time()\n",
    "    arr=quick_sort(arr_random)\n",
    "    endtime=time.time()\n",
    "    print('快速排序需要时间:',endtime-starttime)\n",
    "    starttime=time.time()\n",
    "    arr=insertion_sort(arr_random)\n",
    "    endtime=time.time()\n",
    "    print('插入排序需要时间:',endtime-starttime)\n",
    "    starttime=time.time()\n",
    "    selection_sort(arr_random)\n",
    "    endtime=time.time()\n",
    "    print('选择排序需要时间:',endtime-starttime)"
   ]
  },
  {
   "cell_type": "code",
   "execution_count": 19,
   "metadata": {},
   "outputs": [
    {
     "name": "stdout",
     "output_type": "stream",
     "text": [
      "2024-10-14 16:17:53.829891\n"
     ]
    }
   ],
   "source": [
    "from datetime import datetime  \n",
    "now = datetime.now()  \n",
    "print(now)\n"
   ]
  },
  {
   "cell_type": "code",
   "execution_count": 20,
   "metadata": {},
   "outputs": [
    {
     "name": "stdout",
     "output_type": "stream",
     "text": [
      "语文平均分: 84.75\n",
      "数学平均分: 79.5\n",
      "英语平均分 81.75\n"
     ]
    }
   ],
   "source": [
    "import csv  \n",
    "import os  \n",
    "file_path = 'stuGrade.csv' \n",
    "chinese_sum = 0  \n",
    "math_sum = 0  \n",
    "english_sum = 0  \n",
    "count = 0  \n",
    "with open(file_path, mode='r', encoding='utf-8') as file:  \n",
    "    csv_reader = csv.DictReader(file)  \n",
    "    next(csv_reader)    \n",
    "    for row in csv_reader:  \n",
    "        chinese_sum += float(row['chinese'])  \n",
    "        math_sum += float(row['math'])  \n",
    "        english_sum += float(row['english'])  \n",
    "        count += 1  \n",
    "chinese_avg = round(chinese_sum / count, 2)  \n",
    "math_avg = round(math_sum / count, 2)  \n",
    "english_avg = round(english_sum / count, 2)  \n",
    "print(\"语文平均分:\",chinese_avg)  \n",
    "print(\"数学平均分:\",math_avg)  \n",
    "print(\"英语平均分\",english_avg)"
   ]
  }
 ],
 "metadata": {
  "kernelspec": {
   "display_name": "Python 3",
   "language": "python",
   "name": "python3"
  },
  "language_info": {
   "codemirror_mode": {
    "name": "ipython",
    "version": 3
   },
   "file_extension": ".py",
   "mimetype": "text/x-python",
   "name": "python",
   "nbconvert_exporter": "python",
   "pygments_lexer": "ipython3",
   "version": "3.12.0"
  }
 },
 "nbformat": 4,
 "nbformat_minor": 2
}
