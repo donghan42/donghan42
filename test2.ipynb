{
 "cells": [
  {
   "cell_type": "code",
   "execution_count": 32,
   "metadata": {},
   "outputs": [
    {
     "name": "stdout",
     "output_type": "stream",
     "text": [
      "25\n"
     ]
    }
   ],
   "source": [
    "a=50\n",
    "b=25\n",
    "num=0\n",
    "if a>b :\n",
    "    tem=b\n",
    "    b=a\n",
    "    a=tem\n",
    "for i in range (1,b):\n",
    "    if a%i==0 and b%i==0:\n",
    "        num=i\n",
    "print(num)"
   ]
  },
  {
   "cell_type": "code",
   "execution_count": 33,
   "metadata": {},
   "outputs": [
    {
     "name": "stdout",
     "output_type": "stream",
     "text": [
      "优秀\n",
      "良好\n",
      "合格\n",
      "不合格\n"
     ]
    }
   ],
   "source": [
    "def score_dengji(score):\n",
    "    if score>=90:\n",
    "        print('优秀')\n",
    "    if score<90 and score>=75:\n",
    "        print('良好')\n",
    "    if score>=60 and score<75:\n",
    "        print('合格')\n",
    "    if score<60:\n",
    "        print('不合格')\n",
    "a=99\n",
    "b=80\n",
    "c=70\n",
    "d=59\n",
    "score_dengji(a)\n",
    "score_dengji(b)\n",
    "score_dengji(c)\n",
    "score_dengji(d)"
   ]
  },
  {
   "cell_type": "code",
   "execution_count": 34,
   "metadata": {},
   "outputs": [
    {
     "name": "stdout",
     "output_type": "stream",
     "text": [
      "10101101.1101\n"
     ]
    }
   ],
   "source": [
    "def ten_zhaunhua_two(num):\n",
    "    xiaoshu=num % 1\n",
    "    zhengshu=num - xiaoshu\n",
    "    zheng=0\n",
    "    xiao=0\n",
    "    i=1\n",
    "    while zhengshu>=1:\n",
    "            zheng=zheng+(zhengshu%2)*i\n",
    "            i=i*10\n",
    "            zhengshu=zhengshu/2\n",
    "            zhengshu=int(zhengshu)\n",
    "    j=0.1\n",
    "    while xiaoshu!=0:\n",
    "        xiaoshu=xiaoshu*2\n",
    "        if xiaoshu>=1:\n",
    "            xiao=xiao+1*j\n",
    "            xiaoshu=xiaoshu-1\n",
    "        j=j/10\n",
    "    sum=zheng+xiao\n",
    "    print(sum)\n",
    "num=173.8125\n",
    "ten_zhaunhua_two(num)"
   ]
  },
  {
   "cell_type": "code",
   "execution_count": 35,
   "metadata": {},
   "outputs": [
    {
     "name": "stdout",
     "output_type": "stream",
     "text": [
      "10.883273080473815\n"
     ]
    }
   ],
   "source": [
    "import random\n",
    "a=random.uniform(10,20)\n",
    "print(a)"
   ]
  },
  {
   "cell_type": "code",
   "execution_count": 36,
   "metadata": {},
   "outputs": [
    {
     "name": "stdout",
     "output_type": "stream",
     "text": [
      "是回文数\n"
     ]
    }
   ],
   "source": [
    "def panduan(num):\n",
    "    str_num=str(num)\n",
    "    str_num1=str_num[::-1]\n",
    "    if str_num==str_num1:\n",
    "        print(\"是回文数\")\n",
    "    else:\n",
    "        print(\"不是回文数\")\n",
    "num=234567898765432\n",
    "panduan(num)"
   ]
  },
  {
   "cell_type": "code",
   "execution_count": 37,
   "metadata": {},
   "outputs": [
    {
     "name": "stdout",
     "output_type": "stream",
     "text": [
      "[0, 1, 1, 2, 3, 5, 8, 13, 21]\n"
     ]
    }
   ],
   "source": [
    "def Fibonacci(N):\n",
    "    a=0\n",
    "    b=1\n",
    "    c=0\n",
    "    if N==1:\n",
    "        c=0\n",
    "    if N==2:\n",
    "        c=1\n",
    "    else:\n",
    "        for i in range(2,N):\n",
    "            c=a+b\n",
    "            a=b\n",
    "            b=c\n",
    "    return c\n",
    "def Fibonacci_list(N):\n",
    "    list=[]\n",
    "    for i in range(1,N+1):\n",
    "        list.append(Fibonacci(i))\n",
    "    print(list)\n",
    "N=9\n",
    "Fibonacci_list(N)\n",
    "\n"
   ]
  },
  {
   "cell_type": "code",
   "execution_count": 38,
   "metadata": {},
   "outputs": [
    {
     "name": "stdout",
     "output_type": "stream",
     "text": [
      "100\n"
     ]
    }
   ],
   "source": [
    "def find_second(L):\n",
    "    if len(L)<2:\n",
    "        return -1\n",
    "    first=0\n",
    "    second=0\n",
    "    for num in L:\n",
    "        if num > first:\n",
    "            second=first\n",
    "            first=num\n",
    "        elif num > second and num!= first:\n",
    "            second=num\n",
    "    return second\n",
    "L=[1,2,3,5,4,6,7,8,9,5,4,5,8,100000,100]\n",
    "second=find_second(L)\n",
    "print(second)"
   ]
  },
  {
   "cell_type": "code",
   "execution_count": 39,
   "metadata": {},
   "outputs": [
    {
     "name": "stdout",
     "output_type": "stream",
     "text": [
      "1\n"
     ]
    }
   ],
   "source": [
    "import re\n",
    "def validate_id_card(num):\n",
    "    pattern=r'^[1-9]\\d{5}(19|20)\\d{2}(0[1-9]|1[0-2])(0[1-9]|[1-2]\\d|3[0-1])\\d{3}(\\d|X|x)$'\n",
    "    if re.match(pattern,num):\n",
    "        return 1\n",
    "    else:\n",
    "        return -1\n",
    "num='220004198702286312'\n",
    "print(validate_id_card(num))"
   ]
  }
 ],
 "metadata": {
  "kernelspec": {
   "display_name": "Python 3",
   "language": "python",
   "name": "python3"
  },
  "language_info": {
   "codemirror_mode": {
    "name": "ipython",
    "version": 3
   },
   "file_extension": ".py",
   "mimetype": "text/x-python",
   "name": "python",
   "nbconvert_exporter": "python",
   "pygments_lexer": "ipython3",
   "version": "3.12.0"
  }
 },
 "nbformat": 4,
 "nbformat_minor": 2
}
